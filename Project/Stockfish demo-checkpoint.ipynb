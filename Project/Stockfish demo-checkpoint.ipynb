{
 "cells": [
  {
   "cell_type": "code",
   "execution_count": 32,
   "metadata": {},
   "outputs": [],
   "source": [
    "from stockfish import Stockfish\n",
    "stockfish = Stockfish()"
   ]
  },
  {
   "cell_type": "code",
   "execution_count": 33,
   "metadata": {},
   "outputs": [],
   "source": [
    "stockfish = Stockfish(parameters={\"Threads\": 2, \"Minimum Thinking Time\": 30})"
   ]
  },
  {
   "cell_type": "code",
   "execution_count": 34,
   "metadata": {},
   "outputs": [],
   "source": [
    "# stockfish.set_position([\"e2e4\", \"e7e6\"])"
   ]
  },
  {
   "cell_type": "code",
   "execution_count": null,
   "metadata": {},
   "outputs": [],
   "source": []
  },
  {
   "cell_type": "code",
   "execution_count": 35,
   "metadata": {},
   "outputs": [],
   "source": [
    "stockfish.set_fen_position(\"rnbqkbnr/pppp1ppp/4p3/8/4P3/8/PPPP1PPP/RNBQKBNR w KQkq - 0 2\")"
   ]
  },
  {
   "cell_type": "code",
   "execution_count": 36,
   "metadata": {},
   "outputs": [],
   "source": [
    "stockfish.make_moves_from_current_position([\"g4d7\", \"a8b8\", \"f1d1\"])"
   ]
  },
  {
   "cell_type": "code",
   "execution_count": 37,
   "metadata": {},
   "outputs": [
    {
     "data": {
      "text/plain": [
       "'d2d4'"
      ]
     },
     "execution_count": 37,
     "metadata": {},
     "output_type": "execute_result"
    }
   ],
   "source": [
    "stockfish.get_best_move()"
   ]
  },
  {
   "cell_type": "code",
   "execution_count": 38,
   "metadata": {},
   "outputs": [
    {
     "data": {
      "text/plain": [
       "True"
      ]
     },
     "execution_count": 38,
     "metadata": {},
     "output_type": "execute_result"
    }
   ],
   "source": [
    "stockfish.is_move_correct('a2a3')"
   ]
  },
  {
   "cell_type": "code",
   "execution_count": 39,
   "metadata": {},
   "outputs": [
    {
     "data": {
      "text/plain": [
       "[{'Move': 'd2d4', 'Centipawn': 127, 'Mate': None},\n",
       " {'Move': 'b1c3', 'Centipawn': 67, 'Mate': None},\n",
       " {'Move': 'g1f3', 'Centipawn': 54, 'Mate': None}]"
      ]
     },
     "execution_count": 39,
     "metadata": {},
     "output_type": "execute_result"
    }
   ],
   "source": [
    "stockfish.get_top_moves(3)"
   ]
  },
  {
   "cell_type": "code",
   "execution_count": 40,
   "metadata": {},
   "outputs": [],
   "source": [
    "stockfish.set_skill_level(15)"
   ]
  },
  {
   "cell_type": "code",
   "execution_count": 41,
   "metadata": {},
   "outputs": [],
   "source": [
    "stockfish.set_elo_rating(1350)"
   ]
  },
  {
   "cell_type": "code",
   "execution_count": 42,
   "metadata": {},
   "outputs": [
    {
     "data": {
      "text/plain": [
       "'rnbqkbnr/pppp1ppp/4p3/8/4P3/8/PPPP1PPP/RNBQKBNR w KQkq - 0 2'"
      ]
     },
     "execution_count": 42,
     "metadata": {},
     "output_type": "execute_result"
    }
   ],
   "source": [
    "stockfish.get_fen_position()"
   ]
  },
  {
   "cell_type": "code",
   "execution_count": 43,
   "metadata": {},
   "outputs": [
    {
     "data": {
      "text/plain": [
       "'+---+---+---+---+---+---+---+---+\\n| r | n | b | q | k | b | n | r |\\n+---+---+---+---+---+---+---+---+\\n| p | p | p | p |   | p | p | p |\\n+---+---+---+---+---+---+---+---+\\n|   |   |   |   | p |   |   |   |\\n+---+---+---+---+---+---+---+---+\\n|   |   |   |   |   |   |   |   |\\n+---+---+---+---+---+---+---+---+\\n|   |   |   |   | P |   |   |   |\\n+---+---+---+---+---+---+---+---+\\n|   |   |   |   |   |   |   |   |\\n+---+---+---+---+---+---+---+---+\\n| P | P | P | P |   | P | P | P |\\n+---+---+---+---+---+---+---+---+\\n| R | N | B | Q | K | B | N | R |\\n+---+---+---+---+---+---+---+---+\\n'"
      ]
     },
     "execution_count": 43,
     "metadata": {},
     "output_type": "execute_result"
    }
   ],
   "source": [
    "stockfish.get_board_visual()"
   ]
  },
  {
   "cell_type": "code",
   "execution_count": 14,
   "metadata": {},
   "outputs": [
    {
     "data": {
      "text/plain": [
       "{'type': 'cp', 'value': 127}"
      ]
     },
     "execution_count": 14,
     "metadata": {},
     "output_type": "execute_result"
    }
   ],
   "source": [
    "stockfish.get_evaluation()"
   ]
  },
  {
   "cell_type": "code",
   "execution_count": 44,
   "metadata": {},
   "outputs": [],
   "source": [
    "stockfish.make_moves_from_current_position(['e1e2','d8e7'])"
   ]
  },
  {
   "cell_type": "code",
   "execution_count": 45,
   "metadata": {},
   "outputs": [
    {
     "data": {
      "text/plain": [
       "'+---+---+---+---+---+---+---+---+\\n| r | n | b |   | k | b | n | r |\\n+---+---+---+---+---+---+---+---+\\n| p | p | p | p | q | p | p | p |\\n+---+---+---+---+---+---+---+---+\\n|   |   |   |   | p |   |   |   |\\n+---+---+---+---+---+---+---+---+\\n|   |   |   |   |   |   |   |   |\\n+---+---+---+---+---+---+---+---+\\n|   |   |   |   | P |   |   |   |\\n+---+---+---+---+---+---+---+---+\\n|   |   |   |   |   |   |   |   |\\n+---+---+---+---+---+---+---+---+\\n| P | P | P | P | K | P | P | P |\\n+---+---+---+---+---+---+---+---+\\n| R | N | B | Q |   | B | N | R |\\n+---+---+---+---+---+---+---+---+\\n'"
      ]
     },
     "execution_count": 45,
     "metadata": {},
     "output_type": "execute_result"
    }
   ],
   "source": [
    "stockfish.get_board_visual()\n"
   ]
  },
  {
   "cell_type": "code",
   "execution_count": 46,
   "metadata": {},
   "outputs": [
    {
     "data": {
      "text/plain": [
       "'e2e1'"
      ]
     },
     "execution_count": 46,
     "metadata": {},
     "output_type": "execute_result"
    }
   ],
   "source": [
    "stockfish.get_best_move()"
   ]
  },
  {
   "cell_type": "code",
   "execution_count": null,
   "metadata": {},
   "outputs": [],
   "source": []
  }
 ],
 "metadata": {
  "kernelspec": {
   "display_name": "Python 3 (ipykernel)",
   "language": "python",
   "name": "python3"
  },
  "language_info": {
   "codemirror_mode": {
    "name": "ipython",
    "version": 3
   },
   "file_extension": ".py",
   "mimetype": "text/x-python",
   "name": "python",
   "nbconvert_exporter": "python",
   "pygments_lexer": "ipython3",
   "version": "3.8.10"
  }
 },
 "nbformat": 4,
 "nbformat_minor": 4
}
